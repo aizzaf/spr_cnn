{
 "cells": [
  {
   "cell_type": "markdown",
   "metadata": {},
   "source": [
    "LOADING DATA"
   ]
  },
  {
   "cell_type": "code",
   "execution_count": null,
   "metadata": {
    "scrolled": true
   },
   "outputs": [],
   "source": [
    "!pip install tensorflow\n",
    "!pip install opencv-python"
   ]
  },
  {
   "attachments": {},
   "cell_type": "markdown",
   "metadata": {},
   "source": [
    "DATA GATHERING"
   ]
  },
  {
   "cell_type": "code",
   "execution_count": 1,
   "metadata": {
    "_cell_guid": "b1076dfc-b9ad-4769-8c92-a6c4dae69d19",
    "_uuid": "8f2839f25d086af736a60e9eeb907d3b93b6e0e5",
    "execution": {
     "iopub.execute_input": "2023-02-02T15:32:58.702624Z",
     "iopub.status.busy": "2023-02-02T15:32:58.702102Z",
     "iopub.status.idle": "2023-02-02T15:33:03.967049Z",
     "shell.execute_reply": "2023-02-02T15:33:03.965989Z",
     "shell.execute_reply.started": "2023-02-02T15:32:58.702526Z"
    }
   },
   "outputs": [],
   "source": [
    "import numpy as np\n",
    "import pandas as pd\n",
    "from sklearn.model_selection import train_test_split\n",
    "from sklearn.preprocessing import LabelBinarizer\n",
    "from tensorflow.keras.preprocessing.image import load_img, img_to_array\n",
    "import multiprocessing\n",
    "import functools\n",
    "import matplotlib.pyplot as plt"
   ]
  },
  {
   "cell_type": "code",
   "execution_count": 2,
   "metadata": {},
   "outputs": [],
   "source": [
    "def init(l):\n",
    "    global lock\n",
    "    lock = l"
   ]
  },
  {
   "cell_type": "code",
   "execution_count": 3,
   "metadata": {
    "execution": {
     "iopub.execute_input": "2023-02-02T15:34:31.477668Z",
     "iopub.status.busy": "2023-02-02T15:34:31.476878Z",
     "iopub.status.idle": "2023-02-02T15:34:31.483427Z",
     "shell.execute_reply": "2023-02-02T15:34:31.482225Z",
     "shell.execute_reply.started": "2023-02-02T15:34:31.477629Z"
    }
   },
   "outputs": [],
   "source": [
    "def read_csv(img,data,lbl,rot,id):\n",
    "    rows = open('dataset4_csv/ID_'+str(id)+'.csv').read().strip().split('\\n')\n",
    "    for row in rows:\n",
    "        row = row.split(',')\n",
    "        (x,y,label,rotation,pathimg) = row\n",
    "        image =  load_img(pathimg, target_size=(256, 256))\n",
    "        image = img_to_array(image)\n",
    "        lock.acquire()\n",
    "        img.append(image)\n",
    "        data.append([x,y])\n",
    "        lbl.append(label)\n",
    "        rot.append(rotation)\n",
    "        lock.release()"
   ]
  },
  {
   "cell_type": "code",
   "execution_count": 4,
   "metadata": {
    "execution": {
     "iopub.execute_input": "2023-02-02T15:34:39.576109Z",
     "iopub.status.busy": "2023-02-02T15:34:39.575737Z",
     "iopub.status.idle": "2023-02-02T15:39:59.747535Z",
     "shell.execute_reply": "2023-02-02T15:39:59.746290Z",
     "shell.execute_reply.started": "2023-02-02T15:34:39.576078Z"
    }
   },
   "outputs": [],
   "source": [
    "if __name__ == '__main__':\n",
    "    \n",
    "    manager = multiprocessing.Manager()\n",
    "    img = manager.list()\n",
    "    data = manager.list()\n",
    "    lbl = manager.list()\n",
    "    rot = manager.list()\n",
    "    \n",
    "    l = multiprocessing.Lock()\n",
    "    \n",
    "    df = pd.read_csv('izzaspr.csv')\n",
    "    \n",
    "    ID = df['Star ID'].tolist()[:37]\n",
    "\n",
    "    partial_read_csv = functools.partial(read_csv, img, data, lbl, rot)\n",
    "\n",
    "    pool = multiprocessing.Pool(processes=36,initializer=init, initargs=(l,))\n",
    "    pool.map(partial_read_csv, ID)"
   ]
  },
  {
   "cell_type": "code",
   "execution_count": 12,
   "metadata": {},
   "outputs": [],
   "source": [
    "pool.close()\n",
    "pool.terminate()"
   ]
  },
  {
   "cell_type": "code",
   "execution_count": 13,
   "metadata": {},
   "outputs": [],
   "source": [
    "img = np.array(img,dtype='float32')\n",
    "data = np.array(data,dtype='float32')\n",
    "lbl = np.array(lbl)\n",
    "rot = np.array(rot)"
   ]
  },
  {
   "cell_type": "code",
   "execution_count": null,
   "metadata": {},
   "outputs": [],
   "source": [
    "img.max()"
   ]
  },
  {
   "cell_type": "code",
   "execution_count": null,
   "metadata": {},
   "outputs": [],
   "source": [
    "plt.imshow(img[0])\n",
    "lbl[0]"
   ]
  },
  {
   "cell_type": "code",
   "execution_count": null,
   "metadata": {},
   "outputs": [],
   "source": [
    "lb = LabelBinarizer()\n",
    "lbl = lb.fit_transform(lbl)\n",
    "pd.DataFrame(lbl, columns=lb.classes_)"
   ]
  },
  {
   "cell_type": "code",
   "execution_count": null,
   "metadata": {},
   "outputs": [],
   "source": [
    "ro = LabelBinarizer()\n",
    "rot = ro.fit_transform(rot)\n",
    "pd.DataFrame(rot, columns=ro.classes_)"
   ]
  },
  {
   "cell_type": "code",
   "execution_count": 16,
   "metadata": {
    "execution": {
     "iopub.execute_input": "2023-02-02T15:40:58.554965Z",
     "iopub.status.busy": "2023-02-02T15:40:58.554576Z",
     "iopub.status.idle": "2023-02-02T15:40:59.417025Z",
     "shell.execute_reply": "2023-02-02T15:40:59.415951Z",
     "shell.execute_reply.started": "2023-02-02T15:40:58.554932Z"
    }
   },
   "outputs": [],
   "source": [
    "split = train_test_split(img, lbl, rot, data, test_size=0.1)\n",
    "(trainImages, testImages) = split[:2]\n",
    "(trainLabels, testLabels) = split[2:4]\n",
    "(trainRotations, testRotations) = split[4:6]\n",
    "(trainCoordinates, testCoordinates) = split[6:8]\n",
    "split = train_test_split(trainImages, trainLabels, trainRotations, trainCoordinates, test_size=0.1)\n",
    "(trainImages, valImages) = split[:2]\n",
    "(trainLabels, valLabels) = split[2:4]\n",
    "(trainRotations, valRotations) = split[4:6]\n",
    "(trainCoordinates, valCoordinates) = split[6:8]"
   ]
  },
  {
   "cell_type": "code",
   "execution_count": null,
   "metadata": {},
   "outputs": [],
   "source": [
    "del img, data, lbl, rot, l, manager, partial_read_csv, pool, init, read_csv, lb, ro, split "
   ]
  },
  {
   "cell_type": "markdown",
   "metadata": {},
   "source": [
    "MODEL CREATION"
   ]
  },
  {
   "cell_type": "code",
   "execution_count": 21,
   "metadata": {
    "execution": {
     "iopub.execute_input": "2023-02-02T15:41:05.682248Z",
     "iopub.status.busy": "2023-02-02T15:41:05.681869Z",
     "iopub.status.idle": "2023-02-02T15:41:05.690261Z",
     "shell.execute_reply": "2023-02-02T15:41:05.688719Z",
     "shell.execute_reply.started": "2023-02-02T15:41:05.682214Z"
    }
   },
   "outputs": [],
   "source": [
    "from tensorflow.keras.models import Model\n",
    "from tensorflow.keras.layers import Conv2D, MaxPooling2D, Dense, Flatten, Input, Rescaling, Dropout, BatchNormalization, Cropping2D, Lambda\n",
    "from keras.utils.vis_utils import plot_model\n",
    "from tensorflow.keras.optimizers import Adam"
   ]
  },
  {
   "cell_type": "code",
   "execution_count": 22,
   "metadata": {
    "execution": {
     "iopub.execute_input": "2023-02-02T15:41:08.168993Z",
     "iopub.status.busy": "2023-02-02T15:41:08.168274Z",
     "iopub.status.idle": "2023-02-02T15:41:08.198986Z",
     "shell.execute_reply": "2023-02-02T15:41:08.198051Z",
     "shell.execute_reply.started": "2023-02-02T15:41:08.168954Z"
    }
   },
   "outputs": [
    {
     "name": "stdout",
     "output_type": "stream",
     "text": [
      "You must install pydot (`pip install pydot`) and install graphviz (see instructions at https://graphviz.gitlab.io/download/) for plot_model to work.\n"
     ]
    }
   ],
   "source": [
    "#input layer\n",
    "inputs = Input(shape=(256,256,3))\n",
    "scaled_inputs = Rescaling(1/255)(inputs)\n",
    "\n",
    "#label branch\n",
    "# l = Cropping2D(cropping=((58,90),(51,82)))(scaled_inputs)\n",
    "l = Conv2D(16, (3,3), 1, activation = 'relu', kernel_initializer='he_uniform', padding='same')(scaled_inputs)\n",
    "l = BatchNormalization()(l)\n",
    "l = MaxPooling2D()(l)\n",
    "l = Dropout(0.2)(l)\n",
    "l = Conv2D(32, (3,3), 1, activation = 'relu', kernel_initializer='he_uniform', padding='same')(l)\n",
    "l = BatchNormalization()(l)\n",
    "l = MaxPooling2D()(l)\n",
    "l = Dropout(0.3)(l)\n",
    "l = Conv2D(16, (3,3), 1, activation = 'relu', kernel_initializer='he_uniform', padding='same')(l)\n",
    "l = BatchNormalization()(l)\n",
    "l = MaxPooling2D()(l)\n",
    "l = Dropout(0.4)(l)\n",
    "l = Flatten()(l)\n",
    "l = Dense(256, activation='relu', kernel_initializer='he_uniform')(l)\n",
    "l = BatchNormalization()(l)\n",
    "l = Dropout(0.5)(l)\n",
    "l = Dense(37, activation = 'softmax', name='label')(l) #change here\n",
    "\n",
    "#rot branch\n",
    "# r = Cropping2D(cropping=((58,90),(51,82)))(scaled_inputs)\n",
    "r = Conv2D(16, (3,3), 1, activation = 'relu', kernel_initializer='he_uniform', padding='same')(scaled_inputs)\n",
    "r = BatchNormalization()(r)\n",
    "r = MaxPooling2D()(r)\n",
    "r = Dropout(0.2)(r)\n",
    "r = Conv2D(32, (3,3), 1, activation = 'relu', kernel_initializer='he_uniform', padding='same')(r)\n",
    "r = BatchNormalization()(r)\n",
    "r = MaxPooling2D()(r)\n",
    "r = Dropout(0.3)(r)\n",
    "r = Conv2D(16, (3,3), 1, activation = 'relu', kernel_initializer='he_uniform', padding='same')(r)\n",
    "r = BatchNormalization()(r)\n",
    "r = MaxPooling2D()(r)\n",
    "r = Dropout(0.4)(r)\n",
    "r = Flatten()(r)\n",
    "r = Dense(256, activation='relu', kernel_initializer='he_uniform')(r)\n",
    "r = BatchNormalization()(r)\n",
    "r = Dropout(0.5)(r)\n",
    "r = Dense(15, activation = 'softmax', name='rotation')(r)\n",
    "\n",
    "#ann branch\n",
    "# a = Cropping2D(cropping=((58,90),(51,82)))(scaled_inputs)\n",
    "a = Conv2D(16, (3,3), 1, activation = 'relu')(scaled_inputs)\n",
    "a = MaxPooling2D()(a)\n",
    "a = Conv2D(32, (3,3), 1, activation = 'relu')(a)\n",
    "a = MaxPooling2D()(a)\n",
    "a = Conv2D(64, (3,3), 1, activation = 'relu')(a)\n",
    "a = MaxPooling2D()(a)\n",
    "a = Conv2D(128, (3,3), 1, activation = 'relu')(a)\n",
    "a = MaxPooling2D()(a)\n",
    "a = Flatten()(a)\n",
    "a = Dense(32, activation = 'linear')(a)\n",
    "a = Dense(32, activation = 'linear', kernel_regularizer='l2', bias_regularizer='l2')(a)\n",
    "a = Dense(32, activation = 'linear', kernel_regularizer='l2', bias_regularizer='l2')(a)\n",
    "a = Dense(32, activation = 'linear')(a)\n",
    "a = Dense(2, activation = 'linear', name='coordinate')(a)\n",
    "\n",
    "#model\n",
    "model = Model(\n",
    "\tinputs=inputs,\n",
    "\toutputs=(l, r, a))\n",
    "\n",
    "#compile\n",
    "model.compile(loss={\n",
    "\t'label': 'categorical_crossentropy',\n",
    "\t'rotation': 'categorical_crossentropy',\n",
    "\t'coordinate': 'mse',\n",
    "}, optimizer=Adam(learning_rate=0.0001), metrics=['accuracy'])\n",
    "\n",
    "plot_model(model)"
   ]
  },
  {
   "cell_type": "code",
   "execution_count": null,
   "metadata": {},
   "outputs": [],
   "source": [
    "del inputs, scaled_inputs, l, r, a"
   ]
  },
  {
   "cell_type": "markdown",
   "metadata": {},
   "source": [
    "TRAINING"
   ]
  },
  {
   "cell_type": "code",
   "execution_count": 25,
   "metadata": {},
   "outputs": [],
   "source": [
    "from matplotlib import pyplot as plt"
   ]
  },
  {
   "cell_type": "code",
   "execution_count": null,
   "metadata": {
    "execution": {
     "iopub.execute_input": "2023-02-02T15:41:18.926222Z",
     "iopub.status.busy": "2023-02-02T15:41:18.925846Z",
     "iopub.status.idle": "2023-02-02T15:41:18.938218Z",
     "shell.execute_reply": "2023-02-02T15:41:18.937068Z",
     "shell.execute_reply.started": "2023-02-02T15:41:18.926189Z"
    }
   },
   "outputs": [],
   "source": [
    "hist = model.fit(\n",
    "\ttrainImages, {\n",
    "\t'label': trainLabels,\n",
    "\t'rotation': trainRotations,\n",
    "\t'coordinate': trainCoordinates,\n",
    "},\n",
    "\tvalidation_data= (valImages, {\n",
    "\t'label': valLabels,\n",
    "\t'rotation': valRotations,\n",
    "\t'coordinate': valCoordinates,\n",
    "}),\n",
    "\tbatch_size=64,\n",
    "\tepochs=40)\n",
    "\n",
    "model.save('superz.h5')"
   ]
  },
  {
   "cell_type": "code",
   "execution_count": null,
   "metadata": {},
   "outputs": [],
   "source": [
    "fig = plt.figure()\n",
    "plt.plot(hist.history['loss'], color='teal', label='loss')\n",
    "plt.plot(hist.history['val_loss'], color='orange', label='val_loss')\n",
    "fig.suptitle('Loss', fontsize=20)\n",
    "plt.legend(loc='upper left')\n",
    "plt.savefig('lossz.PNG')"
   ]
  },
  {
   "cell_type": "code",
   "execution_count": null,
   "metadata": {},
   "outputs": [],
   "source": [
    "fig = plt.figure()\n",
    "plt.plot(hist.history['label_accuracy'], color='teal', label='label_accuracy')\n",
    "plt.plot(hist.history['val_label_accuracy'], color='orange', label='val_label_accuracy')\n",
    "fig.suptitle('Accuracy', fontsize=20)\n",
    "plt.legend(loc='upper left')\n",
    "plt.savefig('labelzacc.PNG')"
   ]
  },
  {
   "cell_type": "code",
   "execution_count": null,
   "metadata": {},
   "outputs": [],
   "source": [
    "fig = plt.figure()\n",
    "plt.plot(hist.history['rotation_accuracy'], color='teal', label='rotation_accuracy')\n",
    "plt.plot(hist.history['val_rotation_accuracy'], color='orange', label='val_rotation_accuracy')\n",
    "fig.suptitle('Accuracy', fontsize=20)\n",
    "plt.legend(loc='upper left')\n",
    "plt.savefig('rotationzacc.PNG')"
   ]
  },
  {
   "cell_type": "code",
   "execution_count": null,
   "metadata": {},
   "outputs": [],
   "source": [
    "fig = plt.figure()\n",
    "plt.plot(hist.history['coordinate_accuracy'], color='teal', label='coordinate_accuracy')\n",
    "plt.plot(hist.history['val_coordinate_accuracy'], color='orange', label='val_coorrdinate_accuracy')\n",
    "fig.suptitle('Accuracy', fontsize=20)\n",
    "plt.legend(loc='upper left')\n",
    "plt.savefig('coordinatezacc.PNG')"
   ]
  },
  {
   "cell_type": "markdown",
   "metadata": {},
   "source": [
    "TRAINING FROM H5"
   ]
  },
  {
   "cell_type": "code",
   "execution_count": null,
   "metadata": {},
   "outputs": [],
   "source": [
    "# import numpy as np\n",
    "# import cv2\n",
    "# from keras.models import load_model\n",
    "# from matplotlib import pyplot as plt\n",
    "# from keras.utils.vis_utils import plot_model"
   ]
  },
  {
   "cell_type": "code",
   "execution_count": null,
   "metadata": {},
   "outputs": [],
   "source": [
    "# model = load_model('supery.h5')\n",
    "\n",
    "# # model.compile(loss={\n",
    "# # \t'label': 'categorical_crossentropy',\n",
    "# # \t'rotation': 'categorical_crossentropy',\n",
    "# # \t'coordinate': 'mse',\n",
    "# # }, optimizer='adam', metrics=['accuracy'])\n",
    "# plot_model(model)"
   ]
  },
  {
   "cell_type": "code",
   "execution_count": null,
   "metadata": {},
   "outputs": [],
   "source": [
    "# hist = model.fit(\n",
    "# \ttrainImages, {\n",
    "# \t'label': trainLabels,\n",
    "# \t'rotation': trainRotations,\n",
    "# \t'coordinate': trainCoordinates,\n",
    "# },\n",
    "# \tvalidation_data= (valImages, {\n",
    "# \t'label': valLabels,\n",
    "# \t'rotation': valRotations,\n",
    "# \t'coordinate': valCoordinates,\n",
    "# }),\n",
    "# \tbatch_size=32,\n",
    "# \tepochs=20)"
   ]
  },
  {
   "cell_type": "code",
   "execution_count": null,
   "metadata": {},
   "outputs": [],
   "source": [
    "# fig = plt.figure()\n",
    "# plt.plot(hist.history['loss'], color='teal', label='loss')\n",
    "# plt.plot(hist.history['val_loss'], color='orange', label='val_loss')\n",
    "# fig.suptitle('Loss', fontsize=20)\n",
    "# plt.legend(loc='upper left')\n",
    "# plt.savefig('lossx.PNG')"
   ]
  },
  {
   "cell_type": "code",
   "execution_count": null,
   "metadata": {},
   "outputs": [],
   "source": [
    "# fig = plt.figure()\n",
    "# plt.plot(hist.history['label_accuracy'], color='teal', label='label_accuracy')\n",
    "# plt.plot(hist.history['val_label_accuracy'], color='orange', label='val_label_accuracy')\n",
    "# fig.suptitle('Accuracy', fontsize=20)\n",
    "# plt.legend(loc='upper left')\n",
    "# plt.savefig('labelxacc.PNG')"
   ]
  },
  {
   "cell_type": "code",
   "execution_count": null,
   "metadata": {},
   "outputs": [],
   "source": [
    "# fig = plt.figure()\n",
    "# plt.plot(hist.history['rotation_accuracy'], color='teal', label='rotation_accuracy')\n",
    "# plt.plot(hist.history['val_rotation_accuracy'], color='orange', label='val_rotation_accuracy')\n",
    "# fig.suptitle('Accuracy', fontsize=20)\n",
    "# plt.legend(loc='upper left')\n",
    "# plt.savefig('rotationxacc.PNG')"
   ]
  },
  {
   "cell_type": "code",
   "execution_count": null,
   "metadata": {},
   "outputs": [],
   "source": [
    "# fig = plt.figure()\n",
    "# plt.plot(hist.history['coordinate_accuracy'], color='teal', label='coordinate_accuracy')\n",
    "# plt.plot(hist.history['val_coordinate_accuracy'], color='orange', label='val_coorrdinate_accuracy')\n",
    "# fig.suptitle('Accuracy', fontsize=20)\n",
    "# plt.legend(loc='upper left')\n",
    "# plt.savefig('coordinatexacc.PNG')"
   ]
  },
  {
   "cell_type": "markdown",
   "metadata": {},
   "source": [
    "TESTING"
   ]
  },
  {
   "cell_type": "code",
   "execution_count": 31,
   "metadata": {},
   "outputs": [],
   "source": [
    "import numpy as np\n",
    "import cv2\n",
    "from keras.models import load_model\n",
    "from matplotlib import pyplot as plt\n",
    "from sklearn.metrics import accuracy_score, r2_score\n",
    "# from keras.backend import clear_session\n",
    "import pandas as pd"
   ]
  },
  {
   "cell_type": "code",
   "execution_count": null,
   "metadata": {},
   "outputs": [],
   "source": [
    "yhat = model.predict(testImages)\n",
    "y_true = [testLabels,testRotations,testCoordinates]"
   ]
  },
  {
   "cell_type": "code",
   "execution_count": null,
   "metadata": {},
   "outputs": [],
   "source": [
    "#label,rotation,(x,y)\n",
    "accuracy_score(np.argmax(y_true[0],axis=1),np.argmax(yhat[0],axis=1)),accuracy_score(np.argmax(y_true[1],axis=1),np.argmax(yhat[1],axis=1)),r2_score(y_true[2],yhat[2])"
   ]
  },
  {
   "cell_type": "markdown",
   "metadata": {},
   "source": [
    "SINGLE TESTING"
   ]
  },
  {
   "cell_type": "code",
   "execution_count": 35,
   "metadata": {},
   "outputs": [],
   "source": [
    "\n",
    "RA = df['RA (deg)'].tolist()[:37]\n",
    "DE = df['DE (deg)'].tolist()[:37]\n",
    "\n",
    "Magnitude = df['Magnitude'].tolist()[:37]\n",
    "rotations = [0,120,144,168,192,216,24,240,264,288,312,336,48,72,96]"
   ]
  },
  {
   "cell_type": "code",
   "execution_count": null,
   "metadata": {},
   "outputs": [],
   "source": [
    "image = cv2.imread('test_images/144trans150_0-Copy1.jpg')\n",
    "image_show = np.array(image, dtype='float32')\n",
    "image_show_crop = image_show[500:1700, 600:2300]\n",
    "height, width = image_show.shape[:2]\n",
    "image_input = cv2.resize(image_show, (256,256))\n",
    "image_input_crop = image_input[58:166,51:174]\n",
    "# plt.imshow(image_show[500:1700, 600:2300])\n",
    "plt.imshow(image_input)"
   ]
  },
  {
   "cell_type": "code",
   "execution_count": null,
   "metadata": {
    "scrolled": false
   },
   "outputs": [],
   "source": [
    "y = model.predict(np.expand_dims(image_input,0))\n",
    "label = y[0].argmax()\n",
    "rotation = y[1].argmax()\n",
    "co_x = y[2][0][0]\n",
    "co_y = y[2][0][1]\n",
    "cv2.circle(image_show, (int(np.around(co_x*width+width/2)),int(np.around(co_y*height+height/2))), 190, (255,255,255), thickness=2)\n",
    "cv2.putText(image_show, 'RA=' + str(RA[label]) + '˚ DE=' + str(DE[label]) + '˚ ROLL=' + str(rotations[rotation]) + '˚', (100,100), cv2.FONT_HERSHEY_TRIPLEX, 4, (255,255,255), thickness=2)\n",
    "plt.imshow(image_show)\n",
    "print(RA[label],DE[label],ID[label],rotations[rotation],label)"
   ]
  },
  {
   "cell_type": "markdown",
   "metadata": {},
   "source": [
    "CONVERTING TO TFLITE"
   ]
  },
  {
   "cell_type": "code",
   "execution_count": 61,
   "metadata": {},
   "outputs": [],
   "source": [
    "import tensorflow as tf"
   ]
  },
  {
   "cell_type": "code",
   "execution_count": null,
   "metadata": {},
   "outputs": [],
   "source": [
    "TF_LITE_MODEL_FILE_NAME = \"model3.tflite\"\n",
    "tf_lite_converter = tf.lite.TFLiteConverter.from_keras_model(model)\n",
    "tf_lite_converter.optimizations = [tf.lite.Optimize.DEFAULT]\n",
    "tflite_model = tf_lite_converter.convert()\n",
    "tflite_model_name = TF_LITE_MODEL_FILE_NAME\n",
    "open(tflite_model_name, \"wb\").write(tflite_model)"
   ]
  },
  {
   "cell_type": "code",
   "execution_count": null,
   "metadata": {},
   "outputs": [],
   "source": [
    "TF_LITE_MODEL_FILE_NAME = \"model2.tflite\"\n",
    "interpreter = tf.lite.Interpreter(model_path = TF_LITE_MODEL_FILE_NAME)\n",
    "input_details = interpreter.get_input_details()\n",
    "output_details = interpreter.get_output_details()\n",
    "interpreter.resize_tensor_input(input_details[0]['index'], (2720, 256, 256, 3))\n",
    "interpreter.resize_tensor_input(output_details[0]['index'], (2720, 3))\n",
    "interpreter.allocate_tensors()\n",
    "interpreter.set_tensor(input_details[0]['index'], testImages)\n",
    "interpreter.invoke()\n",
    "label = interpreter.get_tensor(output_details[2]['index'])\n",
    "rotation = interpreter.get_tensor(output_details[0]['index'])\n",
    "regression = interpreter.get_tensor(output_details[1]['index'])"
   ]
  }
 ],
 "metadata": {
  "kernelspec": {
   "display_name": "Python 3",
   "language": "python",
   "name": "python3"
  },
  "language_info": {
   "codemirror_mode": {
    "name": "ipython",
    "version": 3
   },
   "file_extension": ".py",
   "mimetype": "text/x-python",
   "name": "python",
   "nbconvert_exporter": "python",
   "pygments_lexer": "ipython3",
   "version": "3.7.6"
  },
  "vscode": {
   "interpreter": {
    "hash": "7377b15fb1d8ec9a133a85d123e0bfcb4498fb0166234c49ee8dc4fe735ec0cd"
   }
  }
 },
 "nbformat": 4,
 "nbformat_minor": 4
}
