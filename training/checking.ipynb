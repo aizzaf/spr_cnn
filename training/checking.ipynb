{
 "cells": [
  {
   "cell_type": "code",
   "execution_count": null,
   "metadata": {},
   "outputs": [],
   "source": [
    "!pip install tensorflow"
   ]
  },
  {
   "cell_type": "code",
   "execution_count": 1,
   "metadata": {},
   "outputs": [],
   "source": [
    "import matplotlib.pyplot as plt\n",
    "from tensorflow.keras.preprocessing.image import load_img, img_to_array\n",
    "import multiprocessing\n",
    "import functools\n",
    "import numpy as np"
   ]
  },
  {
   "cell_type": "code",
   "execution_count": 2,
   "metadata": {},
   "outputs": [],
   "source": [
    "def init(l):\n",
    "    global lock\n",
    "    lock = l"
   ]
  },
  {
   "cell_type": "code",
   "execution_count": 3,
   "metadata": {},
   "outputs": [],
   "source": [
    "def read_img(img,name,id):\n",
    "    pathimg = 'dataset4_image/ID_'+str(id)+'/0.jpg'\n",
    "    image =  load_img(pathimg)\n",
    "    image = img_to_array(image, dtype='float32')\n",
    "    lock.acquire()\n",
    "    img.append(image)\n",
    "    name.append(id)\n",
    "    lock.release()"
   ]
  },
  {
   "cell_type": "code",
   "execution_count": 4,
   "metadata": {},
   "outputs": [],
   "source": [
    "if __name__ == '__main__':\n",
    "    \n",
    "    manager = multiprocessing.Manager()\n",
    "    img = manager.list()\n",
    "    name = manager.list()\n",
    "\n",
    "    l = multiprocessing.Lock()\n",
    "\n",
    "    id = list(range(251,301)) #change here\n",
    "\n",
    "    partial_read_img = functools.partial(read_img, img, name)\n",
    "\n",
    "    pool = multiprocessing.Pool(initializer=init, initargs=(l,))\n",
    "    pool.map(partial_read_img, id)"
   ]
  },
  {
   "cell_type": "code",
   "execution_count": 12,
   "metadata": {},
   "outputs": [],
   "source": [
    "pool.close()\n",
    "pool.terminate()"
   ]
  },
  {
   "cell_type": "code",
   "execution_count": 13,
   "metadata": {},
   "outputs": [],
   "source": [
    "img = np.array(img)\n",
    "name = np.array(name)"
   ]
  },
  {
   "cell_type": "code",
   "execution_count": null,
   "metadata": {},
   "outputs": [],
   "source": [
    "del manager, l, id, read_img, partial_read_img, pool"
   ]
  },
  {
   "cell_type": "code",
   "execution_count": null,
   "metadata": {
    "scrolled": false
   },
   "outputs": [],
   "source": [
    "fig, ax = plt.subplots(nrows=50, figsize=(512,512))\n",
    "a = 0\n",
    "for idx, i in enumerate(img):\n",
    "  ax[idx].imshow(i)\n",
    "  ax[idx].set_title(str(name[idx]) + ' index = ' + str(a))\n",
    "  a += 1"
   ]
  }
 ],
 "metadata": {
  "kernelspec": {
   "display_name": "Python 3",
   "language": "python",
   "name": "python3"
  },
  "language_info": {
   "codemirror_mode": {
    "name": "ipython",
    "version": 3
   },
   "file_extension": ".py",
   "mimetype": "text/x-python",
   "name": "python",
   "nbconvert_exporter": "python",
   "pygments_lexer": "ipython3",
   "version": "3.7.6"
  }
 },
 "nbformat": 4,
 "nbformat_minor": 4
}
